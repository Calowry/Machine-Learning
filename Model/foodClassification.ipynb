{
  "cells": [
    {
      "cell_type": "code",
      "execution_count": 1,
      "metadata": {
        "id": "d-d7lYa8yR0U"
      },
      "outputs": [],
      "source": [
        "import tensorflow as tf\n",
        "import os\n",
        "import random\n",
        "import matplotlib.pyplot as plt\n",
        "import numpy as np\n",
        "from tensorflow.keras.preprocessing.image import ImageDataGenerator"
      ]
    },
    {
      "cell_type": "code",
      "execution_count": 2,
      "metadata": {
        "id": "g2vl9qf40wEr"
      },
      "outputs": [],
      "source": [
        "def train_val_generators(training_dir, validation_dir):\n",
        "  train_datagen = ImageDataGenerator(\n",
        "      rescale=1/255,\n",
        "      rotation_range=40,\n",
        "      width_shift_range=0.2,\n",
        "      height_shift_range=0.2,\n",
        "      shear_range=0.2,\n",
        "      zoom_range=0.2,\n",
        "      horizontal_flip=True,\n",
        "      fill_mode='nearest'\n",
        "  )\n",
        "\n",
        "  train_generator = train_datagen.flow_from_directory(\n",
        "      directory=train_dir,\n",
        "      batch_size=20,\n",
        "      class_mode='categorical',\n",
        "      target_size=(150, 150)\n",
        "  )\n",
        "\n",
        "  val_datagen = ImageDataGenerator(rescale=1/255)\n",
        "\n",
        "  val_generator = val_datagen.flow_from_directory(\n",
        "      directory=val_dir,\n",
        "      batch_size=2,\n",
        "      class_mode='categorical',\n",
        "      target_size=(150, 150)\n",
        "  )\n",
        "\n",
        "  return train_generator, val_generator"
      ]
    },
    {
      "cell_type": "code",
      "execution_count": 3,
      "metadata": {
        "colab": {
          "base_uri": "https://localhost:8080/"
        },
        "id": "oUh2WJPK05eb",
        "outputId": "7ddba692-fc4e-45d5-96d8-5fe3e23e8823"
      },
      "outputs": [
        {
          "name": "stdout",
          "output_type": "stream",
          "text": [
            "Found 2271 images belonging to 22 classes.\n",
            "Found 102 images belonging to 22 classes.\n"
          ]
        }
      ],
      "source": [
        "train_dir = 'dataset/train/'\n",
        "val_dir = 'dataset/validation/'\n",
        "train_generator, validation_generator = train_val_generators(train_dir, val_dir)"
      ]
    },
    {
      "cell_type": "code",
      "execution_count": 4,
      "metadata": {
        "colab": {
          "base_uri": "https://localhost:8080/"
        },
        "id": "rJCs5kHg98X6",
        "outputId": "0389a343-f5fb-4b1f-9c8e-a048ce84f42c"
      },
      "outputs": [
        {
          "data": {
            "text/plain": [
              "{'anggur': 0,\n",
              " 'apel': 1,\n",
              " 'ayam': 2,\n",
              " 'brokoli': 3,\n",
              " 'cap cay': 4,\n",
              " 'ikan': 5,\n",
              " 'jamur crispy': 6,\n",
              " 'kentang': 7,\n",
              " 'mie': 8,\n",
              " 'nasi': 9,\n",
              " 'nasi goreng': 10,\n",
              " 'pempek kapal selam': 11,\n",
              " 'pisang goreng': 12,\n",
              " 'rawon': 13,\n",
              " 'rendang': 14,\n",
              " 'roti': 15,\n",
              " 'sate ayam': 16,\n",
              " 'sate usus': 17,\n",
              " 'sosis': 18,\n",
              " 'soto ayam': 19,\n",
              " 'telur mata sapi': 20,\n",
              " 'wortel': 21}"
            ]
          },
          "execution_count": 4,
          "metadata": {},
          "output_type": "execute_result"
        }
      ],
      "source": [
        "train_generator.class_indices"
      ]
    },
    {
      "cell_type": "code",
      "execution_count": 5,
      "metadata": {
        "colab": {
          "base_uri": "https://localhost:8080/"
        },
        "id": "ZnJEPpna98ag",
        "outputId": "961a75aa-d0fd-448c-e427-c2e5c362ba54"
      },
      "outputs": [
        {
          "data": {
            "text/plain": [
              "{'anggur': 0,\n",
              " 'apel': 1,\n",
              " 'ayam': 2,\n",
              " 'brokoli': 3,\n",
              " 'cap cay': 4,\n",
              " 'ikan': 5,\n",
              " 'jamur crispy': 6,\n",
              " 'kentang': 7,\n",
              " 'mie': 8,\n",
              " 'nasi': 9,\n",
              " 'nasi goreng': 10,\n",
              " 'pempek kapal selam': 11,\n",
              " 'pisang goreng': 12,\n",
              " 'rawon': 13,\n",
              " 'rendang': 14,\n",
              " 'roti': 15,\n",
              " 'sate ayam': 16,\n",
              " 'sate usus': 17,\n",
              " 'sosis': 18,\n",
              " 'soto ayam': 19,\n",
              " 'telur mata sapi': 20,\n",
              " 'wortel': 21}"
            ]
          },
          "execution_count": 5,
          "metadata": {},
          "output_type": "execute_result"
        }
      ],
      "source": [
        "validation_generator.class_indices"
      ]
    },
    {
      "cell_type": "code",
      "execution_count": 6,
      "metadata": {
        "colab": {
          "base_uri": "https://localhost:8080/"
        },
        "id": "H14RnHT1-pZ6",
        "outputId": "edff32b0-ee27-4852-ae7b-f5e110c676d8"
      },
      "outputs": [
        {
          "name": "stdout",
          "output_type": "stream",
          "text": [
            "['anggur', 'apel', 'ayam', 'brokoli', 'cap cay', 'ikan', 'jamur crispy', 'kentang', 'mie', 'nasi', 'nasi goreng', 'pempek kapal selam', 'pisang goreng', 'rawon', 'rendang', 'roti', 'sate ayam', 'sate usus', 'sosis', 'soto ayam', 'telur mata sapi', 'wortel']\n"
          ]
        }
      ],
      "source": [
        "class_names = []\n",
        "for category in train_generator.class_indices:\n",
        "  class_names.append(category)\n",
        "print(class_names)"
      ]
    },
    {
      "cell_type": "code",
      "execution_count": 7,
      "metadata": {
        "colab": {
          "base_uri": "https://localhost:8080/"
        },
        "id": "7N6UrG7J-xXi",
        "outputId": "248c9b72-c726-4668-86f6-12b5e1ba4d53"
      },
      "outputs": [
        {
          "name": "stderr",
          "output_type": "stream",
          "text": [
            "'wget' is not recognized as an internal or external command,\n",
            "operable program or batch file.\n"
          ]
        }
      ],
      "source": [
        "# Download the pre-trained weights\n",
        "!wget --no-check-certificate \\\n",
        "    https://storage.googleapis.com/mledu-datasets/inception_v3_weights_tf_dim_ordering_tf_kernels_notop.h5 \\\n",
        "    -O /tmp/inception_v3_weights_tf_dim_ordering_tf_kernels_notop.h5"
      ]
    },
    {
      "cell_type": "code",
      "execution_count": 4,
      "metadata": {
        "id": "vE7KHUOI-91r"
      },
      "outputs": [],
      "source": [
        "# Import model\n",
        "from tensorflow.keras.applications.inception_v3 import InceptionV3\n",
        "\n",
        "# Set the weights file\n",
        "local_weights_file = 'inception_v3_weights_tf_dim_ordering_tf_kernels_notop.h5'\n",
        "\n",
        "pretrained_model = InceptionV3(input_shape=(150,150,3),\n",
        "                               include_top = False,\n",
        "                               weights = None)\n",
        "\n",
        "# Load the pre-trained weights\n",
        "pretrained_model.load_weights(local_weights_file)\n",
        "\n",
        "# Freeze the weights of the layers\n",
        "for layer in pretrained_model.layers:\n",
        "  layer.trainable = False"
      ]
    },
    {
      "cell_type": "code",
      "execution_count": 5,
      "metadata": {
        "colab": {
          "base_uri": "https://localhost:8080/"
        },
        "id": "eespwZOW-935",
        "outputId": "9952d175-ed26-492a-ef74-01ed1e5c7798"
      },
      "outputs": [
        {
          "name": "stdout",
          "output_type": "stream",
          "text": [
            "last layer output shape:  (None, 7, 7, 768)\n"
          ]
        }
      ],
      "source": [
        "# Choose 'mixed_7' as the last layer of base model\n",
        "last_layer = pretrained_model.get_layer('mixed7')\n",
        "print('last layer output shape: ', last_layer.output_shape)\n",
        "last_output = last_layer.output"
      ]
    },
    {
      "cell_type": "code",
      "execution_count": 6,
      "metadata": {
        "colab": {
          "base_uri": "https://localhost:8080/",
          "height": 1000
        },
        "id": "nUw7yGc2-97I",
        "outputId": "44b1930e-93d3-4dba-c3c3-7329cd32b67e"
      },
      "outputs": [
        {
          "data": {
            "text/plain": [
              "\"\\n# Add a fully connected layer with 1,024 hidden units and ReLU activation\\nx = tf.keras.layers.Dense(128, activation='relu')(x)\\n\\noutputs = tf.keras.layers.Dense(22, activation='softmax')(x)\\n\\n# Append the dense network to the base model\\nmodel = tf.keras.Model(pretrained_model.input, outputs)\\nmodel.summary()\\n\\n# Flatten the output layer to 1 dimension\\nx = tf.keras.layers.Flatten()(last_output)\\n\\n# Add a fully connected layer with 1,024 hidden units and ReLU activation\\nx = tf.keras.layers.Dense(1024, activation='relu')(x)\\n\\n# Add a dropout rate of 0.2\\nx = tf.keras.layers.Dropout(0.2)(x)\\n\\n# Add a final softmax layer for classification\\nx = tf.keras.layers.Dense(22, activation='softmax')(x)           \\n\\n# Append the dense network to the base model\\nmodel = tf.keras.Model(pretrained_model.input, outputs)\\nmodel.summary()\\n\\n\\n# Add a dropout rate of 0.2\\nx = tf.keras.layers.Dropout(0.2)(x)\\n\\n# Add a final softmax layer for classification\\nx = tf.keras.layers.Dense(9, activation='softmax')(x)\\n\\n# Append the dense network to the base model\\nmodel = tf.keras.Model(pretrained_model.input, x)\\nmodel.summary()\\n\""
            ]
          },
          "execution_count": 6,
          "metadata": {},
          "output_type": "execute_result"
        }
      ],
      "source": [
        "# Flatten the output layer to 1 dimension\n",
        "x = tf.keras.layers.Flatten()(last_output)\n",
        "\n",
        "# Add a fully connected layer with 1,024 hidden units and ReLU activation\n",
        "x = tf.keras.layers.Dense(128, activation='relu')(x)\n",
        "\n",
        "outputs = tf.keras.layers.Dense(22, activation='softmax')(x)\n",
        "\n",
        "# Append the dense network to the base model\n",
        "model = tf.keras.Model(pretrained_model.input, outputs)\n",
        "model.summary()"
      ]
    },
    {
      "cell_type": "code",
      "execution_count": 7,
      "metadata": {
        "id": "MBGFzQN607Ep"
      },
      "outputs": [],
      "source": [
        "from tensorflow.keras.optimizers import RMSprop, Adam\n",
        "\n",
        "optimizer1 = RMSprop(learning_rate=1e-5)\n",
        "optimizer2 = RMSprop(learning_rate=1e-4)\n",
        "optimizer3 = Adam(learning_rate=1e-5)\n"
      ]
    },
    {
      "cell_type": "code",
      "execution_count": 8,
      "metadata": {},
      "outputs": [
        {
          "name": "stdout",
          "output_type": "stream",
          "text": [
            "Epoch 1/50\n",
            "114/114 [==============================] - 62s 507ms/step - loss: 2.0287 - accuracy: 0.4232 - val_loss: 1.0324 - val_accuracy: 0.6863\n",
            "Epoch 2/50\n",
            "114/114 [==============================] - 53s 465ms/step - loss: 1.1457 - accuracy: 0.6601 - val_loss: 0.6373 - val_accuracy: 0.8137\n",
            "Epoch 3/50\n",
            "114/114 [==============================] - 65s 566ms/step - loss: 0.9252 - accuracy: 0.7186 - val_loss: 0.5342 - val_accuracy: 0.8039\n",
            "Epoch 4/50\n",
            "114/114 [==============================] - 67s 592ms/step - loss: 0.7778 - accuracy: 0.7640 - val_loss: 0.6258 - val_accuracy: 0.7549\n",
            "Epoch 5/50\n",
            "114/114 [==============================] - 67s 591ms/step - loss: 0.6961 - accuracy: 0.7847 - val_loss: 0.4299 - val_accuracy: 0.8529\n",
            "Epoch 6/50\n",
            "114/114 [==============================] - 65s 569ms/step - loss: 0.6411 - accuracy: 0.7957 - val_loss: 0.4521 - val_accuracy: 0.8627\n",
            "Epoch 7/50\n",
            "114/114 [==============================] - 69s 602ms/step - loss: 0.5992 - accuracy: 0.8067 - val_loss: 0.3927 - val_accuracy: 0.8627\n",
            "Epoch 8/50\n",
            "114/114 [==============================] - 67s 585ms/step - loss: 0.5783 - accuracy: 0.8195 - val_loss: 0.3821 - val_accuracy: 0.8725\n",
            "Epoch 9/50\n",
            "114/114 [==============================] - 72s 635ms/step - loss: 0.5287 - accuracy: 0.8318 - val_loss: 0.4727 - val_accuracy: 0.8333\n",
            "Epoch 10/50\n",
            "114/114 [==============================] - 81s 707ms/step - loss: 0.4831 - accuracy: 0.8494 - val_loss: 0.3828 - val_accuracy: 0.8627\n",
            "Epoch 11/50\n",
            "114/114 [==============================] - 82s 718ms/step - loss: 0.4770 - accuracy: 0.8384 - val_loss: 0.3627 - val_accuracy: 0.8922\n",
            "Epoch 12/50\n",
            "114/114 [==============================] - 75s 654ms/step - loss: 0.4243 - accuracy: 0.8565 - val_loss: 0.4186 - val_accuracy: 0.8529\n",
            "Epoch 13/50\n",
            "114/114 [==============================] - 75s 655ms/step - loss: 0.4131 - accuracy: 0.8639 - val_loss: 0.4043 - val_accuracy: 0.8922\n",
            "Epoch 14/50\n",
            "114/114 [==============================] - 75s 657ms/step - loss: 0.4120 - accuracy: 0.8666 - val_loss: 0.3597 - val_accuracy: 0.8824\n",
            "Epoch 15/50\n",
            "114/114 [==============================] - 80s 705ms/step - loss: 0.3963 - accuracy: 0.8776 - val_loss: 0.4045 - val_accuracy: 0.8824\n",
            "Epoch 16/50\n",
            "114/114 [==============================] - 78s 686ms/step - loss: 0.3687 - accuracy: 0.8719 - val_loss: 0.3141 - val_accuracy: 0.8824\n",
            "Epoch 17/50\n",
            "114/114 [==============================] - 67s 583ms/step - loss: 0.3697 - accuracy: 0.8802 - val_loss: 0.2566 - val_accuracy: 0.9118\n",
            "Epoch 18/50\n",
            "114/114 [==============================] - 64s 558ms/step - loss: 0.3432 - accuracy: 0.8811 - val_loss: 0.3593 - val_accuracy: 0.8725\n",
            "Epoch 19/50\n",
            "114/114 [==============================] - 64s 558ms/step - loss: 0.3410 - accuracy: 0.8815 - val_loss: 0.3586 - val_accuracy: 0.8529\n",
            "Epoch 20/50\n",
            "114/114 [==============================] - 63s 553ms/step - loss: 0.3345 - accuracy: 0.8965 - val_loss: 0.2758 - val_accuracy: 0.8725\n",
            "Epoch 21/50\n",
            "114/114 [==============================] - 64s 557ms/step - loss: 0.3349 - accuracy: 0.9005 - val_loss: 0.2560 - val_accuracy: 0.8922\n",
            "Epoch 22/50\n",
            "114/114 [==============================] - 59s 521ms/step - loss: 0.3000 - accuracy: 0.9022 - val_loss: 0.2770 - val_accuracy: 0.9020\n",
            "Epoch 23/50\n",
            "114/114 [==============================] - 59s 517ms/step - loss: 0.3257 - accuracy: 0.8917 - val_loss: 0.3069 - val_accuracy: 0.9020\n",
            "Epoch 24/50\n",
            "114/114 [==============================] - 61s 530ms/step - loss: 0.3125 - accuracy: 0.8956 - val_loss: 0.3735 - val_accuracy: 0.8824\n",
            "Epoch 25/50\n",
            "114/114 [==============================] - 60s 528ms/step - loss: 0.3003 - accuracy: 0.9071 - val_loss: 0.2719 - val_accuracy: 0.9118\n",
            "Epoch 26/50\n",
            "114/114 [==============================] - 59s 522ms/step - loss: 0.2751 - accuracy: 0.9071 - val_loss: 0.2804 - val_accuracy: 0.9216\n",
            "Epoch 27/50\n",
            "114/114 [==============================] - 59s 518ms/step - loss: 0.2763 - accuracy: 0.9080 - val_loss: 0.2658 - val_accuracy: 0.9118\n",
            "Epoch 28/50\n",
            "114/114 [==============================] - 60s 523ms/step - loss: 0.2546 - accuracy: 0.9203 - val_loss: 0.2897 - val_accuracy: 0.8725\n",
            "Epoch 29/50\n",
            "114/114 [==============================] - 59s 520ms/step - loss: 0.2544 - accuracy: 0.9172 - val_loss: 0.3149 - val_accuracy: 0.9118\n",
            "Epoch 30/50\n",
            "114/114 [==============================] - 59s 521ms/step - loss: 0.2540 - accuracy: 0.9212 - val_loss: 0.2643 - val_accuracy: 0.9216\n",
            "Epoch 31/50\n",
            "114/114 [==============================] - 60s 521ms/step - loss: 0.2390 - accuracy: 0.9190 - val_loss: 0.2444 - val_accuracy: 0.9118\n",
            "Epoch 32/50\n",
            "114/114 [==============================] - 59s 520ms/step - loss: 0.2593 - accuracy: 0.9150 - val_loss: 0.3479 - val_accuracy: 0.9020\n",
            "Epoch 33/50\n",
            "114/114 [==============================] - 60s 520ms/step - loss: 0.2390 - accuracy: 0.9124 - val_loss: 0.2799 - val_accuracy: 0.9118\n",
            "Epoch 34/50\n",
            "114/114 [==============================] - 60s 521ms/step - loss: 0.2224 - accuracy: 0.9278 - val_loss: 0.3527 - val_accuracy: 0.8922\n",
            "Epoch 35/50\n",
            "114/114 [==============================] - 59s 516ms/step - loss: 0.2487 - accuracy: 0.9168 - val_loss: 0.2822 - val_accuracy: 0.9314\n",
            "Epoch 36/50\n",
            "114/114 [==============================] - 60s 527ms/step - loss: 0.2112 - accuracy: 0.9282 - val_loss: 0.2936 - val_accuracy: 0.9020\n",
            "Epoch 37/50\n",
            "114/114 [==============================] - 69s 605ms/step - loss: 0.2047 - accuracy: 0.9304 - val_loss: 0.2337 - val_accuracy: 0.9412\n",
            "Epoch 38/50\n",
            "114/114 [==============================] - 62s 548ms/step - loss: 0.2234 - accuracy: 0.9269 - val_loss: 0.3410 - val_accuracy: 0.8922\n",
            "Epoch 39/50\n",
            "114/114 [==============================] - 62s 545ms/step - loss: 0.2187 - accuracy: 0.9269 - val_loss: 0.2705 - val_accuracy: 0.9118\n",
            "Epoch 40/50\n",
            "114/114 [==============================] - 65s 569ms/step - loss: 0.2268 - accuracy: 0.9326 - val_loss: 0.3198 - val_accuracy: 0.9020\n",
            "Epoch 41/50\n",
            "114/114 [==============================] - 67s 584ms/step - loss: 0.2148 - accuracy: 0.9322 - val_loss: 0.3012 - val_accuracy: 0.8824\n",
            "Epoch 42/50\n",
            "114/114 [==============================] - 69s 608ms/step - loss: 0.2188 - accuracy: 0.9251 - val_loss: 0.2523 - val_accuracy: 0.9216\n",
            "Epoch 43/50\n",
            "114/114 [==============================] - 64s 563ms/step - loss: 0.2028 - accuracy: 0.9309 - val_loss: 0.3251 - val_accuracy: 0.9216\n",
            "Epoch 44/50\n",
            "114/114 [==============================] - 65s 567ms/step - loss: 0.1944 - accuracy: 0.9300 - val_loss: 0.3118 - val_accuracy: 0.9216\n",
            "Epoch 45/50\n",
            "114/114 [==============================] - 64s 565ms/step - loss: 0.2035 - accuracy: 0.9322 - val_loss: 0.3500 - val_accuracy: 0.8922\n",
            "Epoch 46/50\n",
            "114/114 [==============================] - 65s 568ms/step - loss: 0.1802 - accuracy: 0.9392 - val_loss: 0.3081 - val_accuracy: 0.9020\n",
            "Epoch 47/50\n",
            "114/114 [==============================] - 65s 567ms/step - loss: 0.1904 - accuracy: 0.9379 - val_loss: 0.2812 - val_accuracy: 0.9118\n",
            "Epoch 48/50\n",
            "114/114 [==============================] - 61s 531ms/step - loss: 0.1884 - accuracy: 0.9375 - val_loss: 0.2415 - val_accuracy: 0.9118\n",
            "Epoch 49/50\n",
            "114/114 [==============================] - 65s 571ms/step - loss: 0.1638 - accuracy: 0.9445 - val_loss: 0.2499 - val_accuracy: 0.9314\n",
            "Epoch 50/50\n",
            "114/114 [==============================] - 67s 591ms/step - loss: 0.1851 - accuracy: 0.9388 - val_loss: 0.2642 - val_accuracy: 0.9216\n"
          ]
        }
      ],
      "source": [
        "model.compile(\n",
        "    optimizer=optimizer2,\n",
        "    loss='categorical_crossentropy',\n",
        "    metrics=['accuracy']\n",
        ")\n",
        "\n",
        "history = model.fit(\n",
        "    train_generator,\n",
        "    epochs = 50,\n",
        "    validation_data = validation_generator,\n",
        "    verbose = 1,\n",
        ")"
      ]
    },
    {
      "attachments": {},
      "cell_type": "markdown",
      "metadata": {
        "id": "X9_Hh3zjBQ2Y"
      },
      "source": [
        "# Plotting Accuracy and Loss"
      ]
    },
    {
      "cell_type": "code",
      "execution_count": 9,
      "metadata": {},
      "outputs": [
        {
          "data": {
            "image/png": "[encoded data removed]",
            "text/plain": [
              "<Figure size 640x480 with 1 Axes>"
            ]
          },
          "metadata": {},
          "output_type": "display_data"
        },
        {
          "data": {
            "image/png": "[encoded data removed]",
            "text/plain": [
              "<Figure size 640x480 with 1 Axes>"
            ]
          },
          "metadata": {},
          "output_type": "display_data"
        }
      ],
      "source": [
        "acc = history.history['accuracy']\n",
        "val_acc = history.history['val_accuracy']\n",
        "loss = history.history['loss']\n",
        "val_loss = history.history['val_loss']\n",
        "epochs=range(len(acc))\n",
        "\n",
        "# Accuracy\n",
        "plt.plot(epochs, acc, 'r', label=\"Training Accuracy\")\n",
        "plt.plot(epochs, val_acc, 'b', label=\"Validation Accuracy\")\n",
        "plt.title('Training and Validation Accuracy')\n",
        "plt.legend()\n",
        "plt.figure()\n",
        "\n",
        "# Loss\n",
        "plt.plot(epochs, loss, 'r', label=\"Training Loss\")\n",
        "plt.plot(epochs, val_loss, 'b', label=\"Validation Loss\")\n",
        "plt.title('Training and Validation Loss')\n",
        "plt.legend()\n",
        "\n",
        "plt.show()"
      ]
    },
    {
      "cell_type": "code",
      "execution_count": 10,
      "metadata": {
        "id": "coQCG-GgBOeo"
      },
      "outputs": [
        {
          "name": "stderr",
          "output_type": "stream",
          "text": [
            "WARNING:absl:Found untraced functions such as _jit_compiled_convolution_op, _jit_compiled_convolution_op, _jit_compiled_convolution_op, _jit_compiled_convolution_op, _jit_compiled_convolution_op while saving (showing 5 of 71). These functions will not be directly callable after loading.\n"
          ]
        },
        {
          "name": "stdout",
          "output_type": "stream",
          "text": [
            "INFO:tensorflow:Assets written to: saved_model/rms1e-4\\assets\n"
          ]
        },
        {
          "name": "stderr",
          "output_type": "stream",
          "text": [
            "INFO:tensorflow:Assets written to: saved_model/rms1e-4\\assets\n"
          ]
        }
      ],
      "source": [
        "export_dir = 'saved_model/rms1e-4'\n",
        "\n",
        "tf.saved_model.save(model, export_dir)"
      ]
    },
    {
      "cell_type": "code",
      "execution_count": 11,
      "metadata": {
        "id": "MphKS_kkBOiQ"
      },
      "outputs": [],
      "source": [
        "# Convert the model\n",
        "converter = tf.lite.TFLiteConverter.from_saved_model(export_dir) # path to the SavedModel directory\n",
        "tflite_model = converter.convert()\n",
        "\n",
        "# Save the model.\n",
        "with open('rmsprop1e-4_model.tflite', 'wb') as f:\n",
        "  f.write(tflite_model)"
      ]
    },
    {
      "cell_type": "code",
      "execution_count": 12,
      "metadata": {},
      "outputs": [],
      "source": [
        "# Convert model\n",
        "converter = tf.lite.TFLiteConverter.from_saved_model(export_dir)\n",
        "converter.optimizations = [tf.lite.Optimize.DEFAULT]\n",
        "tflite_model = converter.convert()\n",
        "\n",
        "# Write TFLite model\n",
        "tflite_model_file = \"rmsprop1e-4_model_compressed.tflite\"\n",
        "\n",
        "with open(tflite_model_file, \"wb\") as f:\n",
        "    f.write(tflite_model)"
      ]
    },
    {
      "cell_type": "code",
      "execution_count": 27,
      "metadata": {
        "id": "pXIVlfvXBOlZ"
      },
      "outputs": [
        {
          "name": "stdout",
          "output_type": "stream",
          "text": [
            "1/1 [==============================] - 0s 93ms/step\n",
            "[3.4399263e-09 1.4163840e-10 2.0309013e-10 1.2513381e-10 4.2777945e-08\n",
            " 9.6709607e-10 7.0217908e-08 6.8197870e-08 7.3686168e-03 4.2782240e-02\n",
            " 8.8381121e-04 1.3713293e-06 1.0437703e-05 1.5828921e-07 8.5216249e-07\n",
            " 1.7279624e-09 5.6864218e-11 1.5810349e-09 5.9733307e-10 1.7911314e-06\n",
            " 9.4895053e-01 7.8950707e-11]\n",
            "\n",
            "labels[20] = 0.9489505290985107\n",
            "Telur Mata Sapi\n"
          ]
        }
      ],
      "source": [
        "## NOTE: If you are using Safari and this cell throws an error,\n",
        "## please skip this block and run the next one instead.\n",
        "\n",
        "import numpy as np\n",
        "from tensorflow.keras.utils import load_img, img_to_array\n",
        "\n",
        "\n",
        "labels = ['Anggur', 'Apel', 'Ayam Goreng', 'Brokoli', 'Cap Cay', 'Ikan Bakar', 'Jamur Crispy', 'Kentang', 'Mie Goreng', 'Nasi Putih', 'Nasi Goreng', 'Pempek Kapal Selam', 'Pisang Goreng', 'Rawon', 'Rendang', 'Roti', 'Sate Ayam', 'Sate Usus', 'Sosis', 'Soto Ayam', 'Telur Mata Sapi', 'Wortel']\n",
        "\n",
        "# predicting images\n",
        "path = 'test_images/WhatsApp Image 2023-06-12 at 10.09.46 PM.jpeg'\n",
        "img = load_img(path, target_size=(150, 150))\n",
        "x=img_to_array(img)\n",
        "x /= 255\n",
        "x=np.expand_dims(x, axis=0)\n",
        "images = np.vstack([x])\n",
        "\n",
        "classes = model.predict(images, batch_size=10)\n",
        "result = np.argmax(classes)\n",
        "print(classes[0])\n",
        "print(f'\\nlabels[{result}] = {classes[0,result]}')\n",
        "print(labels[result])"
      ]
    }
  ],
  "metadata": {
    "colab": {
      "provenance": []
    },
    "kernelspec": {
      "display_name": "Python 3",
      "name": "python3"
    },
    "language_info": {
      "codemirror_mode": {
        "name": "ipython",
        "version": 3
      },
      "file_extension": ".py",
      "mimetype": "text/x-python",
      "name": "python",
      "nbconvert_exporter": "python",
      "pygments_lexer": "ipython3",
      "version": "3.11.2"
    }
  },
  "nbformat": 4,
  "nbformat_minor": 0
}
